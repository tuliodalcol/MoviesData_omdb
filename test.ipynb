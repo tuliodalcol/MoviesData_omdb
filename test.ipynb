{
 "cells": [
  {
   "cell_type": "code",
   "execution_count": 3,
   "metadata": {},
   "outputs": [
    {
     "data": {
      "text/html": "<div>\n<style scoped>\n    .dataframe tbody tr th:only-of-type {\n        vertical-align: middle;\n    }\n\n    .dataframe tbody tr th {\n        vertical-align: top;\n    }\n\n    .dataframe thead th {\n        text-align: right;\n    }\n</style>\n<table border=\"1\" class=\"dataframe\">\n  <thead>\n    <tr style=\"text-align: right;\">\n      <th></th>\n      <th>Unnamed: 0</th>\n      <th>Title</th>\n      <th>Year</th>\n      <th>Rated</th>\n      <th>Released</th>\n      <th>Runtime</th>\n      <th>Genre</th>\n      <th>Director</th>\n      <th>Writer</th>\n      <th>Actors</th>\n      <th>...</th>\n      <th>Metascore</th>\n      <th>imdbRating</th>\n      <th>imdbVotes</th>\n      <th>imdbID</th>\n      <th>Type</th>\n      <th>DVD</th>\n      <th>BoxOffice</th>\n      <th>Production</th>\n      <th>Website</th>\n      <th>avg_rate</th>\n    </tr>\n  </thead>\n  <tbody>\n    <tr>\n      <th>0</th>\n      <td>0</td>\n      <td>Inception</td>\n      <td>2010</td>\n      <td>PG-13</td>\n      <td>16 Jul 2010</td>\n      <td>148 min</td>\n      <td>Action, Adventure, Sci-Fi</td>\n      <td>Christopher Nolan</td>\n      <td>Christopher Nolan</td>\n      <td>Leonardo DiCaprio, Joseph Gordon-Levitt, Ellio...</td>\n      <td>...</td>\n      <td>74</td>\n      <td>8.8</td>\n      <td>2,223,702</td>\n      <td>tt1375666</td>\n      <td>movie</td>\n      <td>07 Dec 2010</td>\n      <td>$292,576,195</td>\n      <td>NaN</td>\n      <td>NaN</td>\n      <td>0.83</td>\n    </tr>\n  </tbody>\n</table>\n<p>1 rows × 25 columns</p>\n</div>",
      "text/plain": "   Unnamed: 0      Title  Year  Rated     Released  Runtime  \\\n0           0  Inception  2010  PG-13  16 Jul 2010  148 min   \n\n                       Genre           Director             Writer  \\\n0  Action, Adventure, Sci-Fi  Christopher Nolan  Christopher Nolan   \n\n                                              Actors  ... Metascore  \\\n0  Leonardo DiCaprio, Joseph Gordon-Levitt, Ellio...  ...        74   \n\n  imdbRating  imdbVotes     imdbID   Type          DVD     BoxOffice  \\\n0        8.8  2,223,702  tt1375666  movie  07 Dec 2010  $292,576,195   \n\n  Production Website avg_rate  \n0        NaN     NaN     0.83  \n\n[1 rows x 25 columns]"
     },
     "execution_count": 3,
     "metadata": {},
     "output_type": "execute_result"
    }
   ],
   "source": [
    "import json\n",
    "import pandas as pd\n",
    "import numpy as np\n",
    "\n",
    "pd.read_csv('output/inception.csv')"
   ]
  },
  {
   "cell_type": "code",
   "execution_count": 58,
   "metadata": {},
   "outputs": [],
   "source": []
  },
  {
   "cell_type": "code",
   "execution_count": null,
   "metadata": {},
   "outputs": [],
   "source": []
  },
  {
   "cell_type": "code",
   "execution_count": null,
   "metadata": {},
   "outputs": [],
   "source": [
    "\n"
   ]
  },
  {
   "cell_type": "code",
   "execution_count": null,
   "metadata": {},
   "outputs": [],
   "source": []
  },
  {
   "cell_type": "code",
   "execution_count": null,
   "metadata": {},
   "outputs": [],
   "source": []
  }
 ],
 "metadata": {
  "kernelspec": {
   "display_name": "Python 3",
   "language": "python",
   "name": "python3"
  },
  "language_info": {
   "codemirror_mode": {
    "name": "ipython",
    "version": 3
   },
   "file_extension": ".py",
   "mimetype": "text/x-python",
   "name": "python",
   "nbconvert_exporter": "python",
   "pygments_lexer": "ipython3",
   "version": "3.8.3"
  },
  "orig_nbformat": 2
 },
 "nbformat": 4,
 "nbformat_minor": 2
}