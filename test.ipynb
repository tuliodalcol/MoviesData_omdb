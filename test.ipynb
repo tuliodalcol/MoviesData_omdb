{
 "cells": [
  {
   "cell_type": "code",
   "execution_count": 45,
   "metadata": {},
   "outputs": [],
   "source": [
    "import json\n",
    "import pandas as pd\n",
    "import numpy as np"
   ]
  },
  {
   "cell_type": "code",
   "execution_count": 58,
   "metadata": {},
   "outputs": [],
   "source": [
    "with open('output/data.json') as f:\n",
    "    data = json.load(f)\n",
    "df = pd.DataFrame(data)\n",
    "df.to_csv('output/data_.csv')"
   ]
  },
  {
   "cell_type": "code",
   "execution_count": 59,
   "metadata": {},
   "outputs": [
    {
     "data": {
      "text/html": "<div>\n<style scoped>\n    .dataframe tbody tr th:only-of-type {\n        vertical-align: middle;\n    }\n\n    .dataframe tbody tr th {\n        vertical-align: top;\n    }\n\n    .dataframe thead th {\n        text-align: right;\n    }\n</style>\n<table border=\"1\" class=\"dataframe\">\n  <thead>\n    <tr style=\"text-align: right;\">\n      <th></th>\n      <th>Unnamed: 0</th>\n      <th>0</th>\n    </tr>\n  </thead>\n  <tbody>\n    <tr>\n      <th>0</th>\n      <td>Title</td>\n      <td>Titanic</td>\n    </tr>\n    <tr>\n      <th>1</th>\n      <td>Year</td>\n      <td>1997</td>\n    </tr>\n    <tr>\n      <th>2</th>\n      <td>Rated</td>\n      <td>PG-13</td>\n    </tr>\n    <tr>\n      <th>3</th>\n      <td>Released</td>\n      <td>19 Dec 1997</td>\n    </tr>\n    <tr>\n      <th>4</th>\n      <td>Runtime</td>\n      <td>194 min</td>\n    </tr>\n    <tr>\n      <th>5</th>\n      <td>Genre</td>\n      <td>Drama, Romance</td>\n    </tr>\n    <tr>\n      <th>6</th>\n      <td>Director</td>\n      <td>James Cameron</td>\n    </tr>\n    <tr>\n      <th>7</th>\n      <td>Writer</td>\n      <td>James Cameron</td>\n    </tr>\n    <tr>\n      <th>8</th>\n      <td>Actors</td>\n      <td>Leonardo DiCaprio, Kate Winslet, Billy Zane</td>\n    </tr>\n    <tr>\n      <th>9</th>\n      <td>Plot</td>\n      <td>A seventeen-year-old aristocrat falls in love ...</td>\n    </tr>\n    <tr>\n      <th>10</th>\n      <td>Language</td>\n      <td>English, Swedish, Italian, French</td>\n    </tr>\n    <tr>\n      <th>11</th>\n      <td>Country</td>\n      <td>United States, Mexico</td>\n    </tr>\n    <tr>\n      <th>12</th>\n      <td>Awards</td>\n      <td>Won 11 Oscars. 125 wins &amp; 83 nominations total</td>\n    </tr>\n    <tr>\n      <th>13</th>\n      <td>Poster</td>\n      <td>https://m.media-amazon.com/images/M/MV5BMDdmZG...</td>\n    </tr>\n    <tr>\n      <th>14</th>\n      <td>Metascore</td>\n      <td>75</td>\n    </tr>\n    <tr>\n      <th>15</th>\n      <td>imdbRating</td>\n      <td>7.8</td>\n    </tr>\n    <tr>\n      <th>16</th>\n      <td>imdbVotes</td>\n      <td>1,117,107</td>\n    </tr>\n    <tr>\n      <th>17</th>\n      <td>imdbID</td>\n      <td>tt0120338</td>\n    </tr>\n    <tr>\n      <th>18</th>\n      <td>Type</td>\n      <td>movie</td>\n    </tr>\n    <tr>\n      <th>19</th>\n      <td>DVD</td>\n      <td>08 Jan 2002</td>\n    </tr>\n    <tr>\n      <th>20</th>\n      <td>BoxOffice</td>\n      <td>$659,363,944</td>\n    </tr>\n    <tr>\n      <th>21</th>\n      <td>Production</td>\n      <td>NaN</td>\n    </tr>\n    <tr>\n      <th>22</th>\n      <td>Website</td>\n      <td>NaN</td>\n    </tr>\n    <tr>\n      <th>23</th>\n      <td>avg_rate</td>\n      <td>0.81</td>\n    </tr>\n  </tbody>\n</table>\n</div>",
      "text/plain": "    Unnamed: 0                                                  0\n0        Title                                            Titanic\n1         Year                                               1997\n2        Rated                                              PG-13\n3     Released                                        19 Dec 1997\n4      Runtime                                            194 min\n5        Genre                                     Drama, Romance\n6     Director                                      James Cameron\n7       Writer                                      James Cameron\n8       Actors        Leonardo DiCaprio, Kate Winslet, Billy Zane\n9         Plot  A seventeen-year-old aristocrat falls in love ...\n10    Language                  English, Swedish, Italian, French\n11     Country                              United States, Mexico\n12      Awards     Won 11 Oscars. 125 wins & 83 nominations total\n13      Poster  https://m.media-amazon.com/images/M/MV5BMDdmZG...\n14   Metascore                                                 75\n15  imdbRating                                                7.8\n16   imdbVotes                                          1,117,107\n17      imdbID                                          tt0120338\n18        Type                                              movie\n19         DVD                                        08 Jan 2002\n20   BoxOffice                                       $659,363,944\n21  Production                                                NaN\n22     Website                                                NaN\n23    avg_rate                                               0.81"
     },
     "execution_count": 59,
     "metadata": {},
     "output_type": "execute_result"
    }
   ],
   "source": [
    "pd.read_csv('output/data.csv')"
   ]
  },
  {
   "cell_type": "code",
   "execution_count": null,
   "metadata": {},
   "outputs": [],
   "source": [
    "\n"
   ]
  },
  {
   "cell_type": "code",
   "execution_count": null,
   "metadata": {},
   "outputs": [],
   "source": []
  },
  {
   "cell_type": "code",
   "execution_count": null,
   "metadata": {},
   "outputs": [],
   "source": []
  }
 ],
 "metadata": {
  "kernelspec": {
   "display_name": "Python 3.8.2 64-bit ('env': venv)",
   "metadata": {
    "interpreter": {
     "hash": "18fad4850def86519c1997fdc00bcad1c73e0cf31d96f84e3fac1dae1c4bace8"
    }
   },
   "name": "python3"
  },
  "language_info": {
   "codemirror_mode": {
    "name": "ipython",
    "version": 3
   },
   "file_extension": ".py",
   "mimetype": "text/x-python",
   "name": "python",
   "nbconvert_exporter": "python",
   "pygments_lexer": "ipython3",
   "version": "3.8.2"
  },
  "orig_nbformat": 2
 },
 "nbformat": 4,
 "nbformat_minor": 2
}